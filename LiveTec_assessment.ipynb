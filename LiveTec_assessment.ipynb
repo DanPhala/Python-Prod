{
  "nbformat": 4,
  "nbformat_minor": 0,
  "metadata": {
    "colab": {
      "provenance": [],
      "authorship_tag": "ABX9TyP0GLrOFIolYYOO4Vvlf7p1",
      "include_colab_link": true
    },
    "kernelspec": {
      "name": "python3",
      "display_name": "Python 3"
    },
    "language_info": {
      "name": "python"
    }
  },
  "cells": [
    {
      "cell_type": "markdown",
      "metadata": {
        "id": "view-in-github",
        "colab_type": "text"
      },
      "source": [
        "<a href=\"https://colab.research.google.com/github/DanPhala/Python-Prod/blob/main/LiveTec_assessment.ipynb\" target=\"_parent\"><img src=\"https://colab.research.google.com/assets/colab-badge.svg\" alt=\"Open In Colab\"/></a>"
      ]
    },
    {
      "cell_type": "code",
      "source": [
        "import warnings\n",
        "warnings.filterwarnings(\"ignore\")\n",
        "\n"
      ],
      "metadata": {
        "id": "-x2TMjEe9WWs"
      },
      "execution_count": 1,
      "outputs": []
    },
    {
      "cell_type": "markdown",
      "source": [
        "# New Section"
      ],
      "metadata": {
        "id": "lSkqzFbStVQf"
      }
    },
    {
      "cell_type": "code",
      "source": [
        "!pip install pandas openpyxl\n"
      ],
      "metadata": {
        "id": "7FGoQ3rkf7l3"
      },
      "execution_count": null,
      "outputs": []
    },
    {
      "cell_type": "code",
      "execution_count": 8,
      "metadata": {
        "id": "YLjwxv1-fPN5"
      },
      "outputs": [],
      "source": [
        "import pandas as pd\n",
        "import json\n",
        "from datetime import datetime, timedelta\n",
        "import os\n",
        "from google.colab import files\n"
      ]
    },
    {
      "cell_type": "code",
      "source": [
        "\n",
        "uploaded = files.upload()\n",
        "\n",
        "file_name = list(uploaded.keys())[0]\n",
        "file_path = os.path.abspath(file_name)"
      ],
      "metadata": {
        "id": "HiOI4QXmfcGo"
      },
      "execution_count": null,
      "outputs": []
    },
    {
      "cell_type": "code",
      "source": [
        "df = pd.read_csv(file_path, encoding='unicode_escape')\n",
        "print(df)"
      ],
      "metadata": {
        "id": "nTIpa7evfghN",
        "colab": {
          "base_uri": "https://localhost:8080/"
        },
        "outputId": "84e647c9-abbc-4bef-bc26-cf0c7a47bfcd"
      },
      "execution_count": 13,
      "outputs": [
        {
          "output_type": "stream",
          "name": "stdout",
          "text": [
            "               Week               District          County  \\\n",
            "0     Week 1 (2023)         Aberdeenshire   Aberdeenshire    \n",
            "1     Week 1 (2023)                  Angus           Angus   \n",
            "2     Week 1 (2023)                   Arun     West Sussex   \n",
            "3     Week 1 (2023)  Basingstoke and Deane       Hampshire   \n",
            "4     Week 1 (2023)  Basingstoke and Deane       Hampshire   \n",
            "..              ...                    ...             ...   \n",
            "433  Week 36 (2023)                   Fife            Fife   \n",
            "434  Week 36 (2023)               Highland        Highland   \n",
            "435  Week 36 (2023)                Lothian         Lothian   \n",
            "436  Week 36 (2023)               Somerset        Somerset   \n",
            "437  Week 37 (2023)                  Angus           Angus   \n",
            "\n",
            "                       Species (Positive)                    Species (Latin)  \\\n",
            "0    Mute Swan (1), Pink Footed Goose (2)  Cygnus olor, Anser brachyrhynchus   \n",
            "1                   Pink Footed Goose (3)               Anser brachyrhynchus   \n",
            "2                           Peregrine (2)                   Falco peregrinus   \n",
            "3                           Mute Swan (2)                        Cygnus olor   \n",
            "4                      Common Buzzard (1)                        Buteo buteo   \n",
            "..                                    ...                                ...   \n",
            "433                      Herring Gull (1)                   Larus argentatus   \n",
            "434                       Common Tern (2)                     Sterna Hirundo   \n",
            "435                    Unknown Buzzard(1)                                NaN   \n",
            "436                         Peregrine (1)                   Falco peregrinus   \n",
            "437                         Kittiwake (1)                   Rissa tridactyla   \n",
            "\n",
            "     Pathotype  Total  \n",
            "0    H5N1 HPAI      3  \n",
            "1    H5N1 HPAI      3  \n",
            "2    H5N1 HPAI      2  \n",
            "3    H5N1 HPAI      2  \n",
            "4    H5N1 HPAI      1  \n",
            "..         ...    ...  \n",
            "433    H5 HPAI      1  \n",
            "434  H5N1 HPAI      2  \n",
            "435  H5N1 HPAI      1  \n",
            "436  H5N1 HPAI      1  \n",
            "437  H5N1 HPAI      1  \n",
            "\n",
            "[438 rows x 7 columns]\n"
          ]
        }
      ]
    },
    {
      "cell_type": "markdown",
      "source": [
        "#weekly + Monthly\n"
      ],
      "metadata": {
        "id": "P4XmB5-fwvk5"
      }
    },
    {
      "cell_type": "code",
      "source": [
        "\n",
        "def parse_date(input_str):\n",
        "    if \"Week\" in input_str:\n",
        "        week_number = int(input_str.split()[1])\n",
        "        year = int(input_str.split()[-1][1:-1])\n",
        "\n",
        "        start_of_week = pd.to_datetime(f'{year}-W{week_number}-1', format='%Y-W%U-%w')\n",
        "\n",
        "        end_of_week = pd.to_datetime(f'{year}-W{week_number + 1}-0', format='%Y-W%U-%w') - pd.Timedelta(seconds=1)\n",
        "\n",
        "        return start_of_week, end_of_week\n",
        "    else:\n",
        "        date = pd.to_datetime(input_str, format='%B %Y', errors='coerce')\n",
        "        if pd.isna(date):\n",
        "            return \"Invalid date format.\"\n",
        "\n",
        "\n",
        "        start_of_month = date.replace(day=1)\n",
        "        end_of_month = (date + pd.DateOffset(months=1) - pd.Timedelta(days=1)).replace(hour=23, minute=59, second=59)\n",
        "\n",
        "        return start_of_month, end_of_month\n",
        "\n",
        "df = pd.read_csv(file_path, encoding='unicode_escape')\n",
        "\n",
        "result_df = pd.DataFrame(columns=['title', 'district', 'country', 'numberOfFindings','totalNumberofBirdsTestingPositive', 'species','periodStart', 'periodEnd'])\n",
        "monthly_result_df = pd.DataFrame(columns=['title', 'district', 'country', 'numberOfFindings','totalNumberofBirdsTestingPositive', 'species','periodStart', 'periodEnd'])\n",
        "\n",
        "for index, row in df.iterrows():\n",
        "    week_title = f\"{row['Week']}\"\n",
        "    district = row['District']\n",
        "    country = row['County']\n",
        "    species_name = row['Species (Positive)']\n",
        "    latin_name = row['Species (Latin)']\n",
        "    pathotype = row['Pathotype']\n",
        "    total = row['Total']\n",
        "    week_start, week_end = parse_date(week_title)\n",
        "\n",
        "    existing_row = result_df[(result_df['title'] == week_title) & (result_df['district'] == district)]\n",
        "    if not existing_row.empty:\n",
        "        existing_row_index = existing_row.index[0]\n",
        "        result_df.at[existing_row_index, 'numberOfFindings'] += 1\n",
        "        result_df.at[existing_row_index, 'totalNumberofBirdsTestingPositive'] += total\n",
        "        existing_species = next((s for s in result_df.at[existing_row_index, 'species'] if s['latinName'] == latin_name), None)\n",
        "        if existing_species:\n",
        "            existing_species['total'] += total\n",
        "        else:\n",
        "            result_df.at[existing_row_index, 'species'].append({\n",
        "                'name': re.sub(r'\\(\\d+\\)', '', species_name.replace('\\u00a0', ' ')),\n",
        "                'latinName': latin_name,\n",
        "                'pathotype': pathotype,\n",
        "                'total': total\n",
        "            })\n",
        "    else:\n",
        "        result_df = result_df._append({\n",
        "            'title': week_title,\n",
        "            'district': district.replace('\\u00a0', ' '),\n",
        "            'country': country.replace('\\u00a0', ' '),\n",
        "            'numberOfFindings': 1,\n",
        "            'totalNumberofBirdsTestingPositive': total,\n",
        "            'species': [{\n",
        "                'name':  re.sub(r'\\(\\d+\\)', '', species_name.replace('\\u00a0', ' ')),\n",
        "                'latinName': str(latin_name).replace('\\u00a0', ' '),\n",
        "                'pathotype': pathotype.replace('\\u00a0', ' '),\n",
        "                'total': total\n",
        "            }],\n",
        "            'periodStart': week_start.isoformat(),\n",
        "            'periodEnd':  week_end.isoformat()\n",
        "        }, ignore_index=True)\n",
        "\n",
        "\n",
        "    month_title = week_start.strftime('%B %Y')\n",
        "    existing_monthly_row = monthly_result_df[(monthly_result_df['title'] == month_title) & (monthly_result_df['district'] == district)]\n",
        "    if not existing_monthly_row.empty:\n",
        "        existing_monthly_index = existing_monthly_row.index[0]\n",
        "        monthly_result_df.at[existing_monthly_index, 'numberOfFindings'] += 1\n",
        "        monthly_result_df.at[existing_monthly_index, 'totalNumberofBirdsTestingPositive'] += total\n",
        "        existing_species = next((s for s in monthly_result_df.at[existing_monthly_index, 'species'] if s['latinName'] == latin_name), None)\n",
        "        if existing_species:\n",
        "            existing_species['total'] += total\n",
        "        else:\n",
        "            monthly_result_df.at[existing_monthly_index, 'species'].append({\n",
        "                'name': re.sub(r'\\(\\d+\\)', '', species_name.replace('\\u00a0', ' ')),\n",
        "                'latinName': latin_name,\n",
        "                'pathotype': pathotype,\n",
        "                'total': total\n",
        "            })\n",
        "    else:\n",
        "        monthly_result_df = monthly_result_df._append({\n",
        "            'title': month_title,\n",
        "            'district': district.replace('\\u00a0', ' '),\n",
        "            'country': country.replace('\\u00a0', ' '),\n",
        "            'numberOfFindings': 1,\n",
        "            'totalNumberofBirdsTestingPositive': total,\n",
        "            'species': [{\n",
        "                'name':  re.sub(r'\\(\\d+\\)', '', species_name.replace('\\u00a0', ' ')),\n",
        "                'latinName': str(latin_name).replace('\\u00a0', ' '),\n",
        "                'pathotype': pathotype.replace('\\u00a0', ' '),\n",
        "                'total': total\n",
        "            }],\n",
        "            'periodStart': week_start.replace(day=1).isoformat(),\n",
        "            'periodEnd': (week_start.replace(day=1) + pd.offsets.MonthEnd()).isoformat()\n",
        "        }, ignore_index=True)\n",
        "\n",
        "json_result = result_df.to_json(orient='records', default_handler=str, indent=2)\n",
        "json_monthly_result = monthly_result_df.to_json(orient='records', default_handler=str, indent=2)\n",
        "\n",
        "json_file_name = os.path.splitext(file_name)[0] #+ '.json'\n",
        "\n",
        "weekly_file_json_name = json_file_name + '-weekly.json'\n",
        "monthly_file_json_name = json_file_name + '-monthly.json'\n",
        "\n",
        "with open(weekly_file_json_name , 'w') as weekly_file:\n",
        "    weekly_file.write(json_result)\n",
        "    print(f\"Weekly files done ...\")\n",
        "with open(monthly_file_json_name ,  'w') as monthly_file:\n",
        "    monthly_file.write(json_monthly_result)\n",
        "    print(f\"Monthly files done ...\")\n",
        "\n",
        "\n"
      ],
      "metadata": {
        "id": "lhiVdaxGw04x",
        "colab": {
          "base_uri": "https://localhost:8080/"
        },
        "outputId": "7baa56c6-aee8-4dff-cded-294b0c8d7b7b"
      },
      "execution_count": 15,
      "outputs": [
        {
          "output_type": "stream",
          "name": "stdout",
          "text": [
            "Weekly files done ...\n",
            "Monthly files done ...\n"
          ]
        }
      ]
    }
  ]
}